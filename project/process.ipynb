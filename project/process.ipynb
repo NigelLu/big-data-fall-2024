{
  "cells": [
    {
      "cell_type": "markdown",
      "metadata": {
        "id": "RsTgf5zHIm7Z"
      },
      "source": [
        "# CS-GY 6513 Final Project - Book Recommendation"
      ]
    },
    {
      "cell_type": "markdown",
      "metadata": {
        "id": "IU_TSNQVIm7b"
      },
      "source": [
        "## Preliminary"
      ]
    },
    {
      "cell_type": "code",
      "execution_count": 1,
      "metadata": {
        "id": "1VzFeekEIm7c"
      },
      "outputs": [],
      "source": [
        "\n",
        "import torch\n",
        "import pyspark.sql.functions as F\n",
        "\n",
        "from collections import Counter\n",
        "from pyspark.ml import Pipeline\n",
        "from pyspark.sql import SparkSession, DataFrame\n",
        "from pyspark.ml.feature import Tokenizer, Word2Vec, StringIndexer\n",
        "from pyspark.sql.types import ArrayType, FloatType, StringType, StructType, StructField, DateType"
      ]
    },
    {
      "cell_type": "markdown",
      "metadata": {
        "id": "tKCOCLcqIm7d"
      },
      "source": [
        "### Constants"
      ]
    },
    {
      "cell_type": "code",
      "execution_count": 2,
      "metadata": {
        "id": "5B1CzT5kIm7d"
      },
      "outputs": [],
      "source": [
        "APP_NAME = \"BooksDataWordEmbedding\"\n",
        "BOOKS_DATA_FILE_PATH = \"./data/books_data.csv\"\n",
        "BOOK_RATING_FILE_PATH = \"./data/Books_rating.csv\"\n",
        "COLUMNS_TO_EMBED = [\"Title\", \"description\", \"authors\"]\n",
        "TOKENS_COLUMN_SUFFIX = \"_tokens\"\n",
        "EMBEDDING_COLUMN_SUFFIX = \"_embeddings\"\n",
        "\n",
        "RAW_DATA_SCHEMA = StructType(\n",
        "    [\n",
        "        StructField(\"Title\", StringType(), False),\n",
        "        StructField(\"description\", StringType(), True),\n",
        "        StructField(\"authors\", StringType(), True),\n",
        "        StructField(\n",
        "            \"image\",\n",
        "            StringType(),\n",
        "            True,\n",
        "        ),\n",
        "        StructField(\"previewLink\", StringType(), True),\n",
        "        StructField(\"publisher\", StringType(), True),\n",
        "        StructField(\"publishedDate\", DateType(), True),\n",
        "        StructField(\"infoLink\", StringType(), True),\n",
        "        StructField(\"categories\", StringType(), True),\n",
        "        StructField(\"ratingsCount\", FloatType(), True),\n",
        "    ]\n",
        ")\n",
        "RAW_DATA_COLUMNS_TO_DROP = [\"image\", \"previewLink\", \"publishedDate\", \"infoLink\", \"ratingsCount\"]\n",
        "RAW_DATA_STRING_ARRAY_FIELDS = [\"authors\", \"categories\"]\n",
        "\n",
        "COLUMNS_TO_USE_FOR_CATEGORY_FILLING = {\n",
        "    \"Title_embeddings\": 1,\n",
        "    \"description_embeddings\": 0.5,\n",
        "}"
      ]
    },
    {
      "cell_type": "markdown",
      "metadata": {
        "id": "36Rc_GVVIm7e"
      },
      "source": [
        "### Useful Methods"
      ]
    },
    {
      "cell_type": "code",
      "execution_count": 3,
      "metadata": {
        "id": "okIBKlh9Im7e"
      },
      "outputs": [],
      "source": [
        "def show_dataframe(\n",
        "    dataframe: DataFrame, num_rows_to_show: int = 10, prefix: str = \"\", suffix: str = \"\"\n",
        ") -> None:\n",
        "    prefix = prefix + \":\\n\" if prefix else prefix\n",
        "    suffix = suffix + \"\\n\" if suffix else suffix\n",
        "    print(f\"------------\\n{prefix}\")\n",
        "    dataframe.show(num_rows_to_show)\n",
        "    print(f\"{suffix}------------\\n\")"
      ]
    },
    {
      "cell_type": "markdown",
      "metadata": {
        "id": "pIYkJqKpIm7f"
      },
      "source": [
        "### Spark Config"
      ]
    },
    {
      "cell_type": "code",
      "execution_count": 4,
      "metadata": {
        "id": "lios4zi2Im7f"
      },
      "outputs": [
        {
          "name": "stderr",
          "output_type": "stream",
          "text": [
            "Setting default log level to \"WARN\".\n",
            "To adjust logging level use sc.setLogLevel(newLevel). For SparkR, use setLogLevel(newLevel).\n",
            "24/12/15 11:26:47 WARN NativeCodeLoader: Unable to load native-hadoop library for your platform... using builtin-java classes where applicable\n"
          ]
        }
      ],
      "source": [
        "spark = (\n",
        "    SparkSession.builder.appName(APP_NAME)\n",
        "    .config(\"spark.driver.extraJavaOptions\", \"-XX:ReservedCodeCacheSize=2048m\")\n",
        "    .config(\"spark.executor.extraJavaOptions\", \"-XX:ReservedCodeCacheSize=2048m\")\n",
        "    .config(\"spark.executor.memory\", \"16g\")\n",
        "    .config(\"spark.driver.memory\", \"16g\")\n",
        "    .getOrCreate()\n",
        ")"
      ]
    },
    {
      "cell_type": "markdown",
      "metadata": {
        "id": "wpoISNKxIm7f"
      },
      "source": [
        "## Read Data & Null Handling"
      ]
    },
    {
      "cell_type": "code",
      "execution_count": 65,
      "metadata": {
        "id": "6uwOBNyBIm7g",
        "outputId": "423103f1-86e6-4a44-ea8f-e72c0e21c33d"
      },
      "outputs": [
        {
          "name": "stdout",
          "output_type": "stream",
          "text": [
            "------------\n",
            "Books Data:\n",
            "\n",
            "+--------------------+--------------------+------------------+--------------------+--------------------+\n",
            "|               Title|         description|           authors|           publisher|          categories|\n",
            "+--------------------+--------------------+------------------+--------------------+--------------------+\n",
            "|Its Only Art If I...|                 N/A|       JulieStrain|                NULL|Comics&GraphicNovels|\n",
            "|Dr. Seuss: Americ...|Philip Nel takes ...|         PhilipNel|           A&C Black|Biography&Autobio...|\n",
            "|Wonderful Worship...|This resource inc...|        DavidR.Ray|                NULL|            Religion|\n",
            "|Whispers of the W...|Julia Thomas find...|    VeronicaHaddon|           iUniverse|             Fiction|\n",
            "|Nation Dance: Rel...|                 N/A|        EdwardLong|                NULL|                NULL|\n",
            "|The Church of Chr...|In The Church of ...|   EverettFerguson|Wm. B. Eerdmans P...|            Religion|\n",
            "|The Overbury affa...|                 N/A| MiriamAllenDeFord|                NULL|                NULL|\n",
            "|A Walk in the Woo...|                 N/A|       LeeBlessing|                NULL|                NULL|\n",
            "|Saint Hyacinth of...|The story for chi...|MaryFabyanWindeatt|     Tan Books & Pub|Biography&Autobio...|\n",
            "|Rising Sons and D...|Wardell recalls h...|     StevenWardell|  Plympton PressIntl|       SocialScience|\n",
            "+--------------------+--------------------+------------------+--------------------+--------------------+\n",
            "only showing top 10 rows\n",
            "\n",
            "------------\n",
            "\n"
          ]
        }
      ],
      "source": [
        "data = spark.read.csv(BOOKS_DATA_FILE_PATH, header=True, schema=RAW_DATA_SCHEMA)\n",
        "for column in COLUMNS_TO_EMBED:\n",
        "    data = data.withColumn(column, F.when(F.col(column).isNull(), \"N/A\").otherwise(F.col(column)))\n",
        "\n",
        "for column in RAW_DATA_STRING_ARRAY_FIELDS:\n",
        "    data = data.withColumn(\n",
        "        column, F.regexp_replace(F.regexp_replace(data[column], r\"[\\[\\]'\\s]\", \"\"), r\",\", \" \")\n",
        "    )\n",
        "\n",
        "for column in RAW_DATA_COLUMNS_TO_DROP:\n",
        "    data = data.drop(F.col(column))\n",
        "\n",
        "show_dataframe(data, prefix=\"Books Data\")"
      ]
    },
    {
      "cell_type": "markdown",
      "metadata": {
        "id": "8sBrSsdVIm7h"
      },
      "source": [
        "## Process Data"
      ]
    },
    {
      "cell_type": "code",
      "execution_count": 59,
      "metadata": {
        "id": "9eSLJmtcIm7h",
        "outputId": "fb96a5f9-7b0b-4a44-b9cb-156dedee7455"
      },
      "outputs": [
        {
          "name": "stderr",
          "output_type": "stream",
          "text": [
            "                                                                                \r"
          ]
        },
        {
          "name": "stdout",
          "output_type": "stream",
          "text": [
            "------------\n",
            "Word embedding result:\n",
            "\n",
            "+--------------------+--------------------+------------------+--------------------+--------------------+--------------------+-------------+--------------------+--------------------+------------+--------------------+--------------------+--------------------+--------------------+----------------------+--------------------+\n",
            "|               Title|         description|           authors|               image|         previewLink|           publisher|publishedDate|            infoLink|          categories|ratingsCount|        Title_tokens|  description_tokens|      authors_tokens|    Title_embeddings|description_embeddings|  authors_embeddings|\n",
            "+--------------------+--------------------+------------------+--------------------+--------------------+--------------------+-------------+--------------------+--------------------+------------+--------------------+--------------------+--------------------+--------------------+----------------------+--------------------+\n",
            "|Its Only Art If I...|                 N/A|       JulieStrain|http://books.goog...|http://books.goog...|                NULL|   1996-01-01|http://books.goog...|Comics&GraphicNovels|        NULL|[its, only, art, ...|               [n/a]|       [juliestrain]|[0.04501823608630...|  [-0.0041403458453...|[-0.0035026634577...|\n",
            "|Dr. Seuss: Americ...|Philip Nel takes ...|         PhilipNel|http://books.goog...|http://books.goog...|           A&C Black|   2005-01-01|http://books.goog...|Biography&Autobio...|        NULL|[dr., seuss:, ame...|[philip, nel, tak...|         [philipnel]|[0.06269227806478...|  [0.00429252485784...|[-0.0020715063437...|\n",
            "|Wonderful Worship...|This resource inc...|        DavidR.Ray|http://books.goog...|http://books.goog...|                NULL|   2000-01-01|http://books.goog...|            Religion|        NULL|[wonderful, worsh...|[this, resource, ...|        [davidr.ray]|[-0.0509275265038...|  [-0.0567816574126...|[0.00325405667535...|\n",
            "|Whispers of the W...|Julia Thomas find...|    VeronicaHaddon|http://books.goog...|http://books.goog...|           iUniverse|   2005-02-01|http://books.goog...|             Fiction|        NULL|[whispers, of, th...|[julia, thomas, f...|    [veronicahaddon]|[0.09215724822133...|  [0.01809087703046...|[-0.0031261707190...|\n",
            "|Nation Dance: Rel...|                 N/A|        EdwardLong|                NULL|http://books.goog...|                NULL|   2003-03-01|http://books.goog...|                NULL|        NULL|[nation, dance:, ...|               [n/a]|        [edwardlong]|[-0.0490131449885...|  [-0.0041403458453...|[0.00379691179841...|\n",
            "|The Church of Chr...|In The Church of ...|   EverettFerguson|http://books.goog...|http://books.goog...|Wm. B. Eerdmans P...|   1996-01-01|http://books.goog...|            Religion|         5.0|[the, church, of,...|[in, the, church,...|   [everettferguson]|[0.02714976601095...|  [-0.0145072440233...|[0.00495674367994...|\n",
            "|The Overbury affa...|                 N/A| MiriamAllenDeFord|                NULL|http://books.goog...|                NULL|   1960-01-01|http://books.goog...|                NULL|        NULL|[the, overbury, a...|               [n/a]| [miriamallendeford]|[0.03575394756626...|  [-0.0041403458453...|[1.40838033985346...|\n",
            "|A Walk in the Woo...|                 N/A|       LeeBlessing|                NULL|http://books.goog...|                NULL|   1988-01-01|http://books.goog...|                NULL|         3.0|[a, walk, in, the...|               [n/a]|       [leeblessing]|[0.07647243803367...|  [-0.0041403458453...|[0.00368305575102...|\n",
            "|Saint Hyacinth of...|The story for chi...|MaryFabyanWindeatt|http://books.goog...|http://books.goog...|     Tan Books & Pub|   2009-01-01|http://books.goog...|Biography&Autobio...|        NULL|[saint, hyacinth,...|[the, story, for,...|[maryfabyanwindeatt]|[0.05362716957461...|  [0.01170332368651...|[0.00364989996887...|\n",
            "|Rising Sons and D...|Wardell recalls h...|     StevenWardell|                NULL|http://books.goog...|  Plympton PressIntl|   1995-01-01|http://books.goog...|       SocialScience|        NULL|[rising, sons, an...|[wardell, recalls...|     [stevenwardell]|[-0.0374313294887...|  [-0.0753789674559...|[-0.0038335598073...|\n",
            "+--------------------+--------------------+------------------+--------------------+--------------------+--------------------+-------------+--------------------+--------------------+------------+--------------------+--------------------+--------------------+--------------------+----------------------+--------------------+\n",
            "only showing top 10 rows\n",
            "\n",
            "------------\n",
            "\n"
          ]
        }
      ],
      "source": [
        "tokenizers = [\n",
        "    Tokenizer(inputCol=column, outputCol=f\"{column}{TOKENS_COLUMN_SUFFIX}\")\n",
        "    for column in COLUMNS_TO_EMBED\n",
        "]\n",
        "\n",
        "word2Vecs = [\n",
        "    Word2Vec(\n",
        "        vectorSize=100,\n",
        "        minCount=0,\n",
        "        inputCol=f\"{column}{TOKENS_COLUMN_SUFFIX}\",\n",
        "        outputCol=f\"{column}{EMBEDDING_COLUMN_SUFFIX}\",\n",
        "    )\n",
        "    for column in COLUMNS_TO_EMBED\n",
        "]\n",
        "\n",
        "stages = tokenizers + word2Vecs\n",
        "word_embedding_pipeline = Pipeline(stages=stages)\n",
        "\n",
        "model = word_embedding_pipeline.fit(data)\n",
        "result = model.transform(data)\n",
        "\n",
        "show_dataframe(result, prefix=\"Word embedding result\")"
      ]
    },
    {
      "cell_type": "markdown",
      "metadata": {
        "id": "Yr3St1GPIm7h"
      },
      "source": [
        "### Save as JSON"
      ]
    },
    {
      "cell_type": "markdown",
      "metadata": {},
      "source": [
        "**Drop Un-necessary Columns**"
      ]
    },
    {
      "cell_type": "code",
      "execution_count": 64,
      "metadata": {
        "id": "gRgWyL7cIm7h",
        "outputId": "bcbb6e3d-4a9f-44a8-cf11-1350c78bb106"
      },
      "outputs": [
        {
          "name": "stderr",
          "output_type": "stream",
          "text": [
            "                                                                                \r"
          ]
        }
      ],
      "source": [
        "result.write.json(\"./result/books_data_embedding\")"
      ]
    },
    {
      "cell_type": "markdown",
      "metadata": {},
      "source": [
        "## Missing Book Category Label Filling - Cosine Similarity"
      ]
    },
    {
      "cell_type": "markdown",
      "metadata": {},
      "source": [
        "### Preparation"
      ]
    },
    {
      "cell_type": "markdown",
      "metadata": {},
      "source": [
        "**Read in Data**"
      ]
    },
    {
      "cell_type": "code",
      "execution_count": 5,
      "metadata": {
        "id": "rZ2kY3wNIm7i",
        "outputId": "358e5e93-547e-4cb9-9172-ec00215c3f8b"
      },
      "outputs": [
        {
          "name": "stderr",
          "output_type": "stream",
          "text": [
            "                                                                                \r"
          ]
        }
      ],
      "source": [
        "df = spark.read.json(\"./result/books_data_embedding/part*.json\")"
      ]
    },
    {
      "cell_type": "code",
      "execution_count": 6,
      "metadata": {},
      "outputs": [
        {
          "name": "stdout",
          "output_type": "stream",
          "text": [
            "------------\n",
            "\n",
            "+--------------------+--------------------+--------------------+------------------+--------------------+--------------------+--------------------+--------------------+----------------------+--------------------+--------------------+\n",
            "|               Title|    Title_embeddings|        Title_tokens|           authors|  authors_embeddings|      authors_tokens|          categories|         description|description_embeddings|  description_tokens|           publisher|\n",
            "+--------------------+--------------------+--------------------+------------------+--------------------+--------------------+--------------------+--------------------+----------------------+--------------------+--------------------+\n",
            "|Its Only Art If I...|{1, [0.0450182360...|[its, only, art, ...|       JulieStrain|{1, [-0.003502663...|       [juliestrain]|Comics&GraphicNovels|                 N/A|  {NULL, NULL, 1, [...|               [n/a]|                NULL|\n",
            "|Dr. Seuss: Americ...|{1, [0.0626922780...|[dr., seuss:, ame...|         PhilipNel|{1, [-0.002071506...|         [philipnel]|Biography&Autobio...|Philip Nel takes ...|  {NULL, NULL, 1, [...|[philip, nel, tak...|           A&C Black|\n",
            "|Wonderful Worship...|{1, [-0.050927526...|[wonderful, worsh...|        DavidR.Ray|{1, [0.0032540566...|        [davidr.ray]|            Religion|This resource inc...|  {NULL, NULL, 1, [...|[this, resource, ...|                NULL|\n",
            "|Whispers of the W...|{1, [0.0921572482...|[whispers, of, th...|    VeronicaHaddon|{1, [-0.003126170...|    [veronicahaddon]|             Fiction|Julia Thomas find...|  {NULL, NULL, 1, [...|[julia, thomas, f...|           iUniverse|\n",
            "|Nation Dance: Rel...|{1, [-0.049013144...|[nation, dance:, ...|        EdwardLong|{1, [0.0037969117...|        [edwardlong]|                NULL|                 N/A|  {NULL, NULL, 1, [...|               [n/a]|                NULL|\n",
            "|The Church of Chr...|{1, [0.0271497660...|[the, church, of,...|   EverettFerguson|{1, [0.0049567436...|   [everettferguson]|            Religion|In The Church of ...|  {NULL, NULL, 1, [...|[in, the, church,...|Wm. B. Eerdmans P...|\n",
            "|The Overbury affa...|{1, [0.0357539475...|[the, overbury, a...| MiriamAllenDeFord|{1, [1.4083803398...| [miriamallendeford]|                NULL|                 N/A|  {NULL, NULL, 1, [...|               [n/a]|                NULL|\n",
            "|A Walk in the Woo...|{1, [0.0764724380...|[a, walk, in, the...|       LeeBlessing|{1, [0.0036830557...|       [leeblessing]|                NULL|                 N/A|  {NULL, NULL, 1, [...|               [n/a]|                NULL|\n",
            "|Saint Hyacinth of...|{1, [0.0536271695...|[saint, hyacinth,...|MaryFabyanWindeatt|{1, [0.0036498999...|[maryfabyanwindeatt]|Biography&Autobio...|The story for chi...|  {NULL, NULL, 1, [...|[the, story, for,...|     Tan Books & Pub|\n",
            "|Rising Sons and D...|{1, [-0.037431329...|[rising, sons, an...|     StevenWardell|{1, [-0.003833559...|     [stevenwardell]|       SocialScience|Wardell recalls h...|  {NULL, NULL, 1, [...|[wardell, recalls...|  Plympton PressIntl|\n",
            "+--------------------+--------------------+--------------------+------------------+--------------------+--------------------+--------------------+--------------------+----------------------+--------------------+--------------------+\n",
            "only showing top 10 rows\n",
            "\n",
            "------------\n",
            "\n"
          ]
        }
      ],
      "source": [
        "show_dataframe(df)"
      ]
    },
    {
      "cell_type": "markdown",
      "metadata": {},
      "source": [
        "**Partition Rows based on if Categories Column is Missing**"
      ]
    },
    {
      "cell_type": "code",
      "execution_count": 7,
      "metadata": {
        "id": "GKLDBTSlIm7i"
      },
      "outputs": [],
      "source": [
        "non_empty_df = df.filter(F.col(\"categories\").isNotNull())\n",
        "empty_df = df.filter(F.col(\"categories\").isNull())"
      ]
    },
    {
      "cell_type": "markdown",
      "metadata": {},
      "source": [
        "**Extract the Embeddings**"
      ]
    },
    {
      "cell_type": "code",
      "execution_count": 8,
      "metadata": {
        "id": "0NCmjyE7Im7i"
      },
      "outputs": [],
      "source": [
        "def extract_embeddings(embedding):\n",
        "    if embedding and \"values\" in embedding:\n",
        "        return embedding[\"values\"]\n",
        "    return []\n"
      ]
    },
    {
      "cell_type": "code",
      "execution_count": 9,
      "metadata": {
        "id": "lH0qVzCcIm7i"
      },
      "outputs": [],
      "source": [
        "extract_embeddings_udf = F.udf(extract_embeddings, ArrayType(FloatType()))\n",
        "\n",
        "\n",
        "for column in COLUMNS_TO_USE_FOR_CATEGORY_FILLING.keys():\n",
        "    non_empty_df = non_empty_df.withColumn(column, extract_embeddings_udf(F.col(column)))\n",
        "    empty_df = empty_df.withColumn(column, extract_embeddings_udf(F.col(column)))"
      ]
    },
    {
      "cell_type": "markdown",
      "metadata": {
        "id": "8BiiuDXwIm7i"
      },
      "source": [
        "**Convert to Torch Tensor**"
      ]
    },
    {
      "cell_type": "code",
      "execution_count": 30,
      "metadata": {
        "id": "oByZ4POJIm7i",
        "outputId": "e04eea46-b1b2-456d-b601-72faadd94b25"
      },
      "outputs": [
        {
          "name": "stderr",
          "output_type": "stream",
          "text": [
            "                                                                                \r"
          ]
        }
      ],
      "source": [
        "reference_data = non_empty_df.select(\n",
        "    *list(COLUMNS_TO_USE_FOR_CATEGORY_FILLING.keys()), \"categories\"\n",
        ")\n",
        "for column in COLUMNS_TO_USE_FOR_CATEGORY_FILLING:\n",
        "    reference_data = reference_data.filter(F.size(F.col(column)) > 0)\n",
        "reference_data = reference_data.collect()\n",
        "\n",
        "title_reference_embeddings = torch.tensor(\n",
        "    [row[\"Title_embeddings\"] for row in reference_data],\n",
        "    dtype=torch.float32,\n",
        ")\n",
        "description_reference_embeddings = title_reference_embeddings = torch.tensor(\n",
        "    [row[\"description_embeddings\"] for row in reference_data],\n",
        "    dtype=torch.float32,\n",
        ")\n",
        "\n",
        "reference_categories = [row[\"categories\"] for row in reference_data]"
      ]
    },
    {
      "cell_type": "markdown",
      "metadata": {
        "id": "T_lRyf0JIm7j"
      },
      "source": [
        "### Calculate Cosine Similarity and Fill the Empty Categories"
      ]
    },
    {
      "cell_type": "code",
      "execution_count": 31,
      "metadata": {
        "id": "px239ZZ_Im7j"
      },
      "outputs": [],
      "source": [
        "def predict_category(\n",
        "    target_row,\n",
        "    title_reference_embeddings,\n",
        "    description_reference_embeddings,\n",
        "    reference_categories,\n",
        "    columns_weight_map: dict,\n",
        "):\n",
        "    combined_similarities = None\n",
        "    for column, weight in columns_weight_map.items():\n",
        "        target_embedding = torch.tensor(target_row[column], dtype=torch.float32).unsqueeze(0)\n",
        "        similarities = torch.nn.functional.cosine_similarity(\n",
        "            target_embedding,\n",
        "            (\n",
        "                title_reference_embeddings\n",
        "                if column == \"Title_embeddings\"\n",
        "                else description_reference_embeddings\n",
        "            ),\n",
        "            dim=1,\n",
        "        )\n",
        "\n",
        "        if combined_similarities is None:\n",
        "            combined_similarities = similarities * weight\n",
        "        else:\n",
        "            combined_similarities += similarities * weight\n",
        "\n",
        "    top_k_indices = torch.topk(combined_similarities, k=10).indices.numpy()\n",
        "    top_categories = []\n",
        "    for i in top_k_indices:\n",
        "        top_categories.extend(reference_categories[i].split(\" \"))\n",
        "\n",
        "    most_common_category = Counter(top_categories).most_common(1)[0][0]\n",
        "    return most_common_category\n",
        "\n",
        "\n",
        "predict_category_udf = F.udf(\n",
        "    lambda x: predict_category(\n",
        "        x,\n",
        "        title_reference_embeddings,\n",
        "        description_reference_embeddings,\n",
        "        reference_categories,\n",
        "        COLUMNS_TO_USE_FOR_CATEGORY_FILLING,\n",
        "    ),\n",
        "    StringType(),\n",
        ")\n",
        "\n",
        "\n",
        "filled_empty_df = empty_df.withColumn(\n",
        "    \"predicted_category\",\n",
        "    predict_category_udf(F.struct(*COLUMNS_TO_USE_FOR_CATEGORY_FILLING.keys())),\n",
        ")"
      ]
    },
    {
      "cell_type": "code",
      "execution_count": 35,
      "metadata": {
        "id": "SIY8houFIm7j"
      },
      "outputs": [
        {
          "data": {
            "text/plain": [
              "DataFrame[Title: string, Title_embeddings: struct<type:bigint,values:array<double>>, Title_tokens: array<string>, authors: string, authors_embeddings: struct<type:bigint,values:array<double>>, authors_tokens: array<string>, categories: string, description: string, description_embeddings: struct<indices:array<string>,size:bigint,type:bigint,values:array<double>>, description_tokens: array<string>, publisher: string]"
            ]
          },
          "execution_count": 35,
          "metadata": {},
          "output_type": "execute_result"
        },
        {
          "name": "stderr",
          "output_type": "stream",
          "text": [
            "[Stage 17:> (0 + 10) / 13][Stage 18:>  (0 + 0) / 13][Stage 19:>  (0 + 0) / 13]\r"
          ]
        }
      ],
      "source": [
        "updated_df = df.join(\n",
        "    filled_empty_df.select(\"Title\", F.col(\"predicted_category\").alias(\"predicted_category\")),\n",
        "    on=\"Title\",\n",
        "    how=\"left_outer\"\n",
        ").withColumn(\n",
        "    \"categories\",\n",
        "    F.when(F.col(\"predicted_category\").isNotNull(), F.col(\"predicted_category\"))\n",
        "    .otherwise(F.col(\"categories\"))\n",
        ").drop(\"predicted_category\")\n",
        "\n",
        "updated_df.cache()"
      ]
    },
    {
      "cell_type": "code",
      "execution_count": 36,
      "metadata": {
        "id": "mljvl9FdIm7j",
        "outputId": "c27dc260-8382-4cc0-da48-a964f9fd8f63"
      },
      "outputs": [
        {
          "name": "stderr",
          "output_type": "stream",
          "text": [
            "[Stage 36:=====================================================>(197 + 3) / 200]\r"
          ]
        },
        {
          "name": "stdout",
          "output_type": "stream",
          "text": [
            "All rows have non-empty categories.\n"
          ]
        },
        {
          "name": "stderr",
          "output_type": "stream",
          "text": [
            "                                                                                \r"
          ]
        }
      ],
      "source": [
        "empty_categories_count = updated_df.filter(F.col(\"categories\").isNull()).count()\n",
        "\n",
        "if empty_categories_count > 0:\n",
        "    print(f\"There are {empty_categories_count} rows with empty categories.\")\n",
        "else:\n",
        "    print(\"All rows have non-empty categories.\")"
      ]
    },
    {
      "cell_type": "code",
      "execution_count": 37,
      "metadata": {
        "id": "ovblnteeIm7j",
        "outputId": "b52e043b-eb7a-46fe-835e-bbf7d85513c0"
      },
      "outputs": [
        {
          "name": "stdout",
          "output_type": "stream",
          "text": [
            "------------\n",
            "After filling categories:\n",
            "\n",
            "+--------------------+--------------------+--------------------+---------------+--------------------+-----------------+--------------------+--------------------+----------------------+--------------------+--------------------+\n",
            "|               Title|    Title_embeddings|        Title_tokens|        authors|  authors_embeddings|   authors_tokens|          categories|         description|description_embeddings|  description_tokens|           publisher|\n",
            "+--------------------+--------------------+--------------------+---------------+--------------------+-----------------+--------------------+--------------------+----------------------+--------------------+--------------------+\n",
            "|Isaac Asimov: Mas...|{1, [-0.044200854...|[isaac, asimov:, ...|    KarenJudson|{1, [6.5018417080...|    [karenjudson]|  JuvenileNonfiction|Details the life ...|  {NULL, NULL, 1, [...|[details, the, li...|Enslow Pub Incorp...|\n",
            "|     White Rock Ways|{1, [-0.030555841...| [white, rock, ways]|    RaeCrossmon|{1, [-0.002518629...|    [raecrossmon]|             Fiction|Enjoy free will, ...|  {NULL, NULL, 1, [...|[enjoy, free, wil...|        Rae Crossmon|\n",
            "|The Face of the T...|{1, [0.0438087782...|[the, face, of, t...|  JoachimE.Fest|{1, [9.5016480190...|  [joachime.fest]|             History|In these searing ...|  {NULL, NULL, 1, [...|[in, these, seari...|       Da Capo Press|\n",
            "|Your Signature Li...|{1, [-0.042241114...|[your, signature,...|            N/A|{1, [-0.003797130...|            [n/a]|      Merchantmarine|                 N/A|  {NULL, NULL, 1, [...|               [n/a]|                NULL|\n",
            "|     Iridescent Soul|{1, [-0.014905699...|  [iridescent, soul]|    M.L.Stevens|{1, [-6.860464927...|    [m.l.stevens]|        Hummingbirds|                 N/A|  {NULL, NULL, 1, [...|               [n/a]| Infinity Publishing|\n",
            "|L'Alchimiste (Cof...|{1, [-0.273783700...|[l'alchimiste, (c...|            N/A|{1, [-0.003797130...|            [n/a]|    Québec(Province)|                 N/A|  {NULL, NULL, 1, [...|               [n/a]|                NULL|\n",
            "|  The Book of Garlic|{1, [0.0954654229...|[the, book, of, g...|  LloydJ.Harris|{1, [0.0023372613...|  [lloydj.harris]|              Garlic|                 N/A|  {NULL, NULL, 1, [...|               [n/a]|                NULL|\n",
            "|A Jesse Stuart Ha...|{1, [0.0243815341...|[a, jesse, stuart...|    JesseStuart|{1, [-9.759850800...|    [jessestuart]|            Kentucky|Eighteen short st...|  {NULL, NULL, 1, [...|[eighteen, short,...|                NULL|\n",
            "|Raymond Chandler:...|{1, [-0.061477207...|[raymond, chandle...|RaymondChandler|{1, [-0.002485744...|[raymondchandler]|Detectiveandmyste...|Later Novels and ...|  {NULL, NULL, 1, [...|[later, novels, a...|                NULL|\n",
            "|      Badenheim 1939|{1, [-0.010278709...|   [badenheim, 1939]| AharonApelfeld|{1, [0.0037794315...| [aharonapelfeld]|             Fiction|A tale of Europe ...|  {NULL, NULL, 1, [...|[a, tale, of, eur...|David R. Godine P...|\n",
            "+--------------------+--------------------+--------------------+---------------+--------------------+-----------------+--------------------+--------------------+----------------------+--------------------+--------------------+\n",
            "only showing top 10 rows\n",
            "\n",
            "------------\n",
            "\n"
          ]
        }
      ],
      "source": [
        "show_dataframe(updated_df, prefix=\"After filling categories\")"
      ]
    },
    {
      "cell_type": "code",
      "execution_count": 38,
      "metadata": {
        "id": "bYkLJJi9Im7k",
        "outputId": "3a8baad8-06e6-45e8-fb0e-9f65a9bdc600"
      },
      "outputs": [
        {
          "name": "stderr",
          "output_type": "stream",
          "text": [
            "                                                                                \r"
          ]
        },
        {
          "name": "stdout",
          "output_type": "stream",
          "text": [
            "DataFrame has been written to ./result/books_data_categories_filled as JSON without specified columns.\n"
          ]
        }
      ],
      "source": [
        "output_path = \"./result/books_data_categories_filled\"\n",
        "columns_to_drop = [\"Title_embeddings\", \"description_embeddings\", \"authors_embeddings\"]\n",
        "cleaned_df = updated_df.drop(*columns_to_drop)\n",
        "\n",
        "\n",
        "cleaned_df.write.option(\"header\", True).mode(\"overwrite\").json(output_path)\n",
        "\n",
        "print(f\"DataFrame has been written to {output_path} as JSON without specified columns.\")"
      ]
    },
    {
      "cell_type": "markdown",
      "metadata": {},
      "source": [
        "**Read in the Data to Verify Output Result and for Later Use**"
      ]
    },
    {
      "cell_type": "code",
      "execution_count": 39,
      "metadata": {},
      "outputs": [
        {
          "name": "stdout",
          "output_type": "stream",
          "text": [
            "------------\n",
            "\n",
            "+--------------------+--------------------+\n",
            "|               Title|          categories|\n",
            "+--------------------+--------------------+\n",
            "|     Behind the Moon|    Adventurestories|\n",
            "|Living in Chaos i...|    Body Mind&Spirit|\n",
            "|CHEMISTRY IN AGRI...|Agriculturalchemi...|\n",
            "|Improving Governa...|    PoliticalScience|\n",
            "|         Study Guide|  Business&Economics|\n",
            "|Something more (T...|       Christianlife|\n",
            "|Woman at the wind...|             Fiction|\n",
            "|Straight from the...|      Health&Fitness|\n",
            "|Mr. Cheap's Atlan...|              Travel|\n",
            "|Hermsprong Or Man...|        Biblestories|\n",
            "+--------------------+--------------------+\n",
            "only showing top 10 rows\n",
            "\n",
            "------------\n",
            "\n"
          ]
        }
      ],
      "source": [
        "df_category_full = spark.read.json(\"./result/books_data_categories_filled/part*.json\").select(*[\"Title\", \"categories\"])\n",
        "show_dataframe(df_category_full)"
      ]
    },
    {
      "cell_type": "markdown",
      "metadata": {
        "id": "jUfRJV2YIm7k"
      },
      "source": [
        "# Collaborative Filtering"
      ]
    },
    {
      "cell_type": "markdown",
      "metadata": {
        "id": "bp7P4BeVIm7k"
      },
      "source": [
        "## Read Data and Sparse Handling"
      ]
    },
    {
      "cell_type": "code",
      "execution_count": 6,
      "metadata": {
        "colab": {
          "base_uri": "https://localhost:8080/"
        },
        "id": "hpf1yW4JIm7k",
        "outputId": "4007d618-5a5f-437b-cd17-a0c3953bd627"
      },
      "outputs": [
        {
          "name": "stderr",
          "output_type": "stream",
          "text": [
            "[Stage 3:======================================================>  (21 + 1) / 22]\r"
          ]
        },
        {
          "name": "stdout",
          "output_type": "stream",
          "text": [
            "------------\n",
            "Books Rating:\n",
            "\n",
            "+----------+--------------------+-----+--------------+--------------------+------------------+------------+-----------+--------------------+--------------------+\n",
            "|        Id|               Title|Price|       User_id|         profileName|review/helpfulness|review/score|review/time|      review/summary|         review/text|\n",
            "+----------+--------------------+-----+--------------+--------------------+------------------+------------+-----------+--------------------+--------------------+\n",
            "|1882931173|Its Only Art If I...| NULL| AVCGYZL8FQQTD|\"Jim of Oz \"\"jim-...|               7/7|         4.0|  940636800|Nice collection o...|This is only for ...|\n",
            "|0826414346|Dr. Seuss: Americ...| NULL|A30TK6U7DNS82R|       Kevin Killian|             10/10|         5.0| 1095724800|   Really Enjoyed It|I don't care much...|\n",
            "|0826414346|Dr. Seuss: Americ...| NULL|A3UH4UZ4RSVO82|        John Granger|             10/11|         5.0| 1078790400|Essential for eve...|\"If people become...|\n",
            "|0826414346|Dr. Seuss: Americ...| NULL|A2MVUWT453QH61|\"Roy E. Perry \"\"a...|               7/7|         4.0| 1090713600|Phlip Nel gives s...|Theodore Seuss Ge...|\n",
            "|0826414346|Dr. Seuss: Americ...| NULL|A22X4XUPKF66MR|\"D. H. Richards \"...|               3/3|         4.0| 1107993600|Good academic ove...|\"Philip Nel - Dr....|\n",
            "|0826414346|Dr. Seuss: Americ...| NULL|A2F6NONFUDB6UK|              Malvin|               2/2|         4.0| 1127174400|One of America's ...|\"\"\"Dr. Seuss: Ame...|\n",
            "|0826414346|Dr. Seuss: Americ...| NULL|A14OJS0VWMOSWO| Midwest Book Review|               3/4|         5.0| 1100131200|A memorably excel...|Theodor Seuss Gie...|\n",
            "|0826414346|Dr. Seuss: Americ...| NULL|A2RSSXTDZDUSH4|           J. Squire|               0/0|         5.0| 1231200000|Academia At It's ...|\"When I recieved ...|\n",
            "|0826414346|Dr. Seuss: Americ...| NULL|A25MD5I2GUIW6W|\"J. P. HIGBED \"\"b...|               0/0|         5.0| 1209859200|And to think that...|\"Trams (or any pu...|\n",
            "|0826414346|Dr. Seuss: Americ...| NULL|A3VA4XFS5WNJO3|     Donald Burnside|               3/5|         4.0| 1076371200|Fascinating accou...|As far as I am aw...|\n",
            "+----------+--------------------+-----+--------------+--------------------+------------------+------------+-----------+--------------------+--------------------+\n",
            "only showing top 10 rows\n",
            "\n",
            "------------\n",
            "\n"
          ]
        },
        {
          "name": "stderr",
          "output_type": "stream",
          "text": [
            "                                                                                \r"
          ]
        }
      ],
      "source": [
        "data = spark.read.csv(BOOK_RATING_FILE_PATH, header=True, inferSchema=True)\n",
        "\n",
        "show_dataframe(data, prefix=\"Books Rating\")"
      ]
    },
    {
      "cell_type": "code",
      "execution_count": 7,
      "metadata": {
        "colab": {
          "base_uri": "https://localhost:8080/"
        },
        "id": "k6MlFU0MIm7k",
        "outputId": "e23e586b-9342-434b-ea40-3ab90d6b5489"
      },
      "outputs": [
        {
          "name": "stdout",
          "output_type": "stream",
          "text": [
            "Original Data Size 3000000\n"
          ]
        },
        {
          "name": "stderr",
          "output_type": "stream",
          "text": [
            "Java HotSpot(TM) 64-Bit Server VM warning: CodeCache is full. Compiler has been disabled.\n",
            "Java HotSpot(TM) 64-Bit Server VM warning: Try increasing the code cache size using -XX:ReservedCodeCacheSize=\n"
          ]
        },
        {
          "name": "stdout",
          "output_type": "stream",
          "text": [
            "CodeCache: size=2097152Kb used=39299Kb max_used=39304Kb free=2057852Kb\n",
            " bounds [0x0000000300000000, 0x0000000302690000, 0x0000000380000000]\n",
            " total_blobs=12844 nmethods=11894 adapters=861\n",
            " compilation: disabled (not enough contiguous free space left)\n"
          ]
        },
        {
          "name": "stderr",
          "output_type": "stream",
          "text": [
            "[Stage 12:>                                                       (0 + 10) / 11]\r"
          ]
        },
        {
          "name": "stdout",
          "output_type": "stream",
          "text": [
            "Filtered Data Size 819551\n"
          ]
        },
        {
          "name": "stderr",
          "output_type": "stream",
          "text": [
            "                                                                                \r"
          ]
        }
      ],
      "source": [
        "print(\"Original Data Size\", data.count())\n",
        "\n",
        "count_df = data.groupBy(\"User_id\").agg(F.count(\"*\").alias(\"record_count\"))\n",
        "# keep user with record number >= 10\n",
        "filtered_df = count_df.filter(F.col(\"record_count\") >= 10)\n",
        "data = data.join(filtered_df, on=\"User_id\", how=\"inner\")\n",
        "\n",
        "print(\"Filtered Data Size\", data.count())"
      ]
    },
    {
      "cell_type": "code",
      "execution_count": 8,
      "metadata": {},
      "outputs": [
        {
          "name": "stderr",
          "output_type": "stream",
          "text": [
            "[Stage 22:=========================================>               (8 + 3) / 11]\r"
          ]
        },
        {
          "name": "stdout",
          "output_type": "stream",
          "text": [
            "Data Size after Adding Book Categories 816451\n"
          ]
        },
        {
          "name": "stderr",
          "output_type": "stream",
          "text": [
            "                                                                                \r"
          ]
        }
      ],
      "source": [
        "# join with the books_data to get the book category\n",
        "data = data.join(df_category_full, on=\"Title\", how=\"inner\")\n",
        "\n",
        "\n",
        "print(\"Data Size after Adding Book Categories\", data.count())"
      ]
    },
    {
      "cell_type": "markdown",
      "metadata": {
        "id": "AtT5806eIm7l"
      },
      "source": [
        "## Generate UserId and BookId"
      ]
    },
    {
      "cell_type": "code",
      "execution_count": 9,
      "metadata": {
        "colab": {
          "base_uri": "https://localhost:8080/"
        },
        "id": "NxpAEKu_Im7l",
        "outputId": "381b255f-206f-4ebf-e102-5d6451102475"
      },
      "outputs": [
        {
          "name": "stderr",
          "output_type": "stream",
          "text": [
            "                                                                                \r"
          ]
        },
        {
          "name": "stdout",
          "output_type": "stream",
          "text": [
            "------------\n",
            "Books Rating:\n",
            "\n"
          ]
        },
        {
          "name": "stderr",
          "output_type": "stream",
          "text": [
            "24/12/15 10:27:24 WARN DAGScheduler: Broadcasting large task binary with size 5.4 MiB\n"
          ]
        },
        {
          "name": "stdout",
          "output_type": "stream",
          "text": [
            "+--------------------+--------------+----------+-----+--------------------+------------------+------------+-----------+--------------------+--------------------+------------+------------------+------+------+------+\n",
            "|               Title|       User_id|        Id|Price|         profileName|review/helpfulness|review/score|review/time|      review/summary|         review/text|record_count|        categories|UserId|BookId|rating|\n",
            "+--------------------+--------------+----------+-----+--------------------+------------------+------------+-----------+--------------------+--------------------+------------+------------------+------+------+------+\n",
            "|'AN ESSAY CONCERN...| AHD101501WCN1|B0006DBRS0| NULL|\"Shalom Freedman ...|               5/6|         5.0| 1106092800|One of the major ...|It has been many ...|        1994|Knowledge Theoryof|     3| 18089|   5.0|\n",
            "|'AN ESSAY CONCERN...| AK81WLVD5KGUX|B0006DBRS0| NULL|\"John S. Ryan \"\"S...|             50/52|         5.0|  933552000|A highly readable...|On the list of th...|         233|Knowledge Theoryof|   255| 18089|   5.0|\n",
            "|'AN ESSAY CONCERN...| AEGR7IBHUM3R7|B0006DBRS0| NULL|                  mp|             54/64|         4.0| 1012435200|Locked Into Reaso...|John Locke's 1698...|         244|Knowledge Theoryof|   241| 18089|   4.0|\n",
            "|'AN ESSAY CONCERN...|A2UE91YBWQ3XV5|B0006DBRS0| NULL|\"mrnolanburris \"\"...|               0/0|         5.0| 1328313600|        College text|This book is a re...|          23|Knowledge Theoryof|  7621| 18089|   5.0|\n",
            "|'AN ESSAY CONCERN...|A21H5Q1N6BH4NU|B0006DBRS0| NULL|Sarang Gopalakris...|             18/90|         2.0| 1072828800|Not unless you ne...|For the most part...|          23|Knowledge Theoryof|  7513| 18089|   2.0|\n",
            "|'AN ESSAY CONCERN...|A1KMUFR1GCFQQY|B0006DBRS0| NULL|           dogmatico|             8/165|         1.0|  974332800|An Essay Concerni...|Not just simple i...|          10|Knowledge Theoryof| 26179| 18089|   1.0|\n",
            "|'Down to Earth' S...| AN3MHNH3C8FJE|184176437X|24.95|\"Michael OConnor ...|               5/5|         5.0| 1133395200|Daring Deeds of 8...|\"During World War...|         119|           History|   774| 90749|   5.0|\n",
            "|'HUMBLE PIE , MY ...| A9Q28YTLYREO7|B000OLP7B2| NULL|\"A customer \"\"mis...|               2/3|         4.0| 1207267200|      very Good Book|i dig watching Go...|         201|           Fiction|   329|  8332|   4.0|\n",
            "|'HUMBLE PIE , MY ...|A214DG8Y09M3W9|B000OLP7B2| NULL|\"Michelle Devon \"...|               0/0|         4.0| 1333065600|Seeing Chef Ramsa...|I've enjoyed watc...|          32|           Fiction|  4866|  8332|   4.0|\n",
            "|'HUMBLE PIE , MY ...|A1L43KWWR05PCS|B000OLP7B2| NULL|           Lawyeraau|               3/3|         4.0| 1235865600|\"DEFINITELY A TYP...|\"I have been a bi...|         960|           Fiction|    10|  8332|   4.0|\n",
            "+--------------------+--------------+----------+-----+--------------------+------------------+------------+-----------+--------------------+--------------------+------------+------------------+------+------+------+\n",
            "only showing top 10 rows\n",
            "\n",
            "------------\n",
            "\n"
          ]
        },
        {
          "name": "stderr",
          "output_type": "stream",
          "text": [
            "                                                                                \r"
          ]
        }
      ],
      "source": [
        "user_indexer = StringIndexer(inputCol=\"User_id\", outputCol=\"UserId\")\n",
        "data = user_indexer.fit(data).transform(data)\n",
        "\n",
        "book_indexer = StringIndexer(inputCol=\"Id\", outputCol=\"BookId\")\n",
        "data = book_indexer.fit(data).transform(data)\n",
        "\n",
        "data = data \\\n",
        "        .withColumn(\"UserId\", F.col(\"UserId\").cast(\"int\")) \\\n",
        "        .withColumn(\"BookId\", F.col(\"BookId\").cast(\"int\")) \\\n",
        "        .withColumn(\"rating\", F.col(\"review/score\").cast(\"float\"))\n",
        "\n",
        "# Remove nulls and NaNs\n",
        "data = data.dropna(subset=[\"rating\"])\n",
        "data = data.filter(F.col(\"rating\").isNotNull())\n",
        "\n",
        "show_dataframe(data, prefix=\"Books Rating\")"
      ]
    },
    {
      "cell_type": "markdown",
      "metadata": {
        "id": "TfwmCDU7Im7l"
      },
      "source": [
        "## Split training and test set"
      ]
    },
    {
      "cell_type": "code",
      "execution_count": 10,
      "metadata": {
        "colab": {
          "base_uri": "https://localhost:8080/"
        },
        "id": "8UkdsEzIIm7l",
        "outputId": "d0e1ad91-5fba-4611-a48f-04339d9097a7"
      },
      "outputs": [
        {
          "name": "stderr",
          "output_type": "stream",
          "text": [
            "24/12/15 10:27:36 WARN DAGScheduler: Broadcasting large task binary with size 5.4 MiB\n",
            "                                                                                \r"
          ]
        },
        {
          "name": "stdout",
          "output_type": "stream",
          "text": [
            "Training Data Size 646021\n"
          ]
        },
        {
          "name": "stderr",
          "output_type": "stream",
          "text": [
            "24/12/15 10:27:50 WARN DAGScheduler: Broadcasting large task binary with size 5.4 MiB\n",
            "[Stage 106:===============>                                        (3 + 8) / 11]\r"
          ]
        },
        {
          "name": "stdout",
          "output_type": "stream",
          "text": [
            "Test Data Size 161504\n"
          ]
        },
        {
          "name": "stderr",
          "output_type": "stream",
          "text": [
            "                                                                                \r"
          ]
        }
      ],
      "source": [
        "(training, test) = data.randomSplit([0.8, 0.2], seed=42)\n",
        "print(\"Training Data Size\", training.count())\n",
        "print(\"Test Data Size\", test.count())"
      ]
    },
    {
      "cell_type": "markdown",
      "metadata": {
        "id": "q8xr_evfIm7l"
      },
      "source": [
        "## Train"
      ]
    },
    {
      "cell_type": "code",
      "execution_count": 11,
      "metadata": {
        "id": "l_QpH4APIm7l"
      },
      "outputs": [],
      "source": [
        "from pyspark.ml.recommendation import ALS\n",
        "from pyspark.ml.evaluation import RegressionEvaluator"
      ]
    },
    {
      "cell_type": "code",
      "execution_count": 12,
      "metadata": {},
      "outputs": [],
      "source": [
        "spark.sparkContext.setLogLevel(\"ERROR\")"
      ]
    },
    {
      "cell_type": "code",
      "execution_count": 13,
      "metadata": {
        "id": "Y5CTe31RIm7m"
      },
      "outputs": [
        {
          "name": "stderr",
          "output_type": "stream",
          "text": [
            "                                                                                \r"
          ]
        }
      ],
      "source": [
        "als = ALS(\n",
        "    userCol=\"UserId\",          # Numeric User ID column\n",
        "    itemCol=\"BookId\",          # Numeric Book ID column\n",
        "    ratingCol=\"rating\",        # Rating column\n",
        "    implicitPrefs=False,       # Explicit feedback (ratings)\n",
        "    coldStartStrategy=\"drop\",  # Drop predictions with NaN\n",
        "    rank=100,                  # since the dataset is sparse, start with higher latent vec dimensionality\n",
        "    regParam=0.1,\n",
        "    maxIter=10,\n",
        ")\n",
        "\n",
        "model = als.fit(training)"
      ]
    },
    {
      "cell_type": "code",
      "execution_count": 24,
      "metadata": {
        "colab": {
          "base_uri": "https://localhost:8080/"
        },
        "id": "A8_6caj3Im7m",
        "outputId": "8a4fa229-de0d-4d41-9161-00a84cf63df5"
      },
      "outputs": [
        {
          "name": "stderr",
          "output_type": "stream",
          "text": [
            "[Stage 1109:=================================================>    (10 + 1) / 11]\r"
          ]
        },
        {
          "name": "stdout",
          "output_type": "stream",
          "text": [
            "Root Mean Squared Error (RMSE): 0.8175549197119781\n"
          ]
        },
        {
          "name": "stderr",
          "output_type": "stream",
          "text": [
            "                                                                                \r"
          ]
        }
      ],
      "source": [
        "predictions = (\n",
        "    model.transform(test)\n",
        "    .withColumn(\n",
        "        \"prediction\",\n",
        "        F.when(F.col(\"prediction\") < 0, 0.0)\n",
        "        .when(F.col(\"prediction\") > 5, 5.0)\n",
        "        .otherwise(F.col(\"prediction\")),\n",
        "    )\n",
        ")\n",
        "evaluator = RegressionEvaluator(metricName=\"rmse\", labelCol=\"rating\", predictionCol=\"prediction\")\n",
        "rmse = evaluator.evaluate(predictions)\n",
        "print(f\"Root Mean Squared Error (RMSE): {rmse}\")"
      ]
    },
    {
      "cell_type": "markdown",
      "metadata": {},
      "source": [
        "## Hybrid with Category Filtering"
      ]
    },
    {
      "cell_type": "markdown",
      "metadata": {},
      "source": [
        "### Find User's Top Book Categories"
      ]
    },
    {
      "cell_type": "code",
      "execution_count": 15,
      "metadata": {},
      "outputs": [
        {
          "name": "stdout",
          "output_type": "stream",
          "text": [
            "------------\n",
            "\n"
          ]
        },
        {
          "name": "stderr",
          "output_type": "stream",
          "text": [
            "[Stage 326:============================>                            (4 + 4) / 8]\r"
          ]
        },
        {
          "name": "stdout",
          "output_type": "stream",
          "text": [
            "+------+--------------------+\n",
            "|UserId|      top_categories|\n",
            "+------+--------------------+\n",
            "|    12|[Art, Arcticregio...|\n",
            "|    22|[Mathematics, Tra...|\n",
            "|    26|[Cooking, Governe...|\n",
            "|    27|[Audioequipmentin...|\n",
            "|    28|[British, William...|\n",
            "|    31|[LiteraryCriticis...|\n",
            "|    34|[PerformingArts, ...|\n",
            "|    44|[History, Biograp...|\n",
            "|    47|[Pets, Oceania, C...|\n",
            "|    53|[Religion, POETRY...|\n",
            "+------+--------------------+\n",
            "only showing top 10 rows\n",
            "\n",
            "------------\n",
            "\n"
          ]
        },
        {
          "name": "stderr",
          "output_type": "stream",
          "text": [
            "                                                                                \r"
          ]
        }
      ],
      "source": [
        "data = data.withColumn(\"category\", F.explode(F.split(data[\"categories\"], \" \")))\n",
        "user_category_pref = data.groupBy(\"UserId\", \"category\").agg(F.avg(\"rating\").alias(\"avg_rating\"))\n",
        "user_top_categories = user_category_pref.filter(user_category_pref[\"avg_rating\"] > 3)\n",
        "user_top_categories_agg = user_top_categories.groupBy(\"UserId\").agg(F.collect_list(\"category\").alias(\"top_categories\"))\n",
        "show_dataframe(user_top_categories_agg)"
      ]
    },
    {
      "cell_type": "markdown",
      "metadata": {},
      "source": [
        "### Generate the Recommendations and Filter based on User's Top Book Categories"
      ]
    },
    {
      "cell_type": "code",
      "execution_count": 16,
      "metadata": {
        "colab": {
          "base_uri": "https://localhost:8080/"
        },
        "id": "vqbjvLAGIm7m",
        "outputId": "fd807986-c9c4-49bd-a0e5-7ed10e2358d9"
      },
      "outputs": [
        {
          "name": "stderr",
          "output_type": "stream",
          "text": [
            "[Stage 436:===================================>                    (7 + 4) / 11]\r"
          ]
        },
        {
          "name": "stdout",
          "output_type": "stream",
          "text": [
            "+------+-------------------------------------------------------------------------------------------------------------------------------------------------------------------------------------------------------------------------------------------------------------------------------------------------------------------------------------------------------------------------------------------------------------------------------------------------------------------------------------------------------------------------------------------------------------------------------------------------------------------------------------------------------------------------------------------------------------------------------------------------------------------------------------------------------+\n",
            "|UserId|recommendations                                                                                                                                                                                                                                                                                                                                                                                                                                                                                                                                                                                                                                                                                                                                                                                        |\n",
            "+------+-------------------------------------------------------------------------------------------------------------------------------------------------------------------------------------------------------------------------------------------------------------------------------------------------------------------------------------------------------------------------------------------------------------------------------------------------------------------------------------------------------------------------------------------------------------------------------------------------------------------------------------------------------------------------------------------------------------------------------------------------------------------------------------------------------+\n",
            "|26    |[{99733, 6.88063}, {108228, 7.3169246}, {77562, 6.7033787}, {104735, 6.6397767}, {107438, 6.5376983}, {92344, 6.465109}, {62003, 6.7997327}, {68471, 6.7413077}, {68472, 6.7413077}, {25659, 6.4836006}, {25659, 6.4836006}, {25659, 6.4836006}, {25659, 6.4836006}]                                                                                                                                                                                                                                                                                                                                                                                                                                                                                                                                   |\n",
            "|27    |[{99733, 6.2930837}, {108228, 6.833697}, {104735, 6.004389}, {107438, 6.337021}, {53406, 5.974913}, {53406, 5.974913}, {68471, 5.933896}, {69309, 5.951941}, {68472, 5.933896}, {107368, 6.1071053}, {112917, 6.0130877}]                                                                                                                                                                                                                                                                                                                                                                                                                                                                                                                                                                              |\n",
            "|28    |[{99733, 5.44227}, {108228, 6.832974}, {54733, 5.215952}, {54733, 5.215952}, {68471, 5.2887745}, {69309, 5.228072}, {16593, 5.258785}, {16593, 5.258785}, {16593, 5.258785}, {16593, 5.258785}, {16593, 5.258785}, {16593, 5.258785}, {68472, 5.2887745}, {44774, 5.1752234}, {44774, 5.1752234}, {90148, 5.399147}, {25729, 5.1779656}, {25729, 5.1779656}, {25729, 5.1779656}]                                                                                                                                                                                                                                                                                                                                                                                                                       |\n",
            "|31    |[{108228, 5.775279}, {107438, 5.166066}, {10343, 4.970711}, {10343, 4.970711}, {10343, 4.970711}, {10343, 4.970711}, {10343, 4.970711}, {10343, 4.970711}, {10343, 4.970711}, {10343, 4.970711}, {10343, 4.970711}, {10343, 4.970711}, {10343, 4.970711}, {20724, 5.010452}, {20724, 5.010452}, {20724, 5.010452}, {20724, 5.010452}, {20724, 5.010452}, {50019, 4.9418263}, {50019, 4.9418263}, {42914, 4.978323}, {42914, 4.978323}, {59815, 5.0721493}, {101392, 5.0874104}, {56691, 5.023655}, {56691, 5.023655}, {88922, 5.278026}]                                                                                                                                                                                                                                                               |\n",
            "|34    |[{99733, 5.9463935}, {108228, 6.7815876}, {77562, 6.222653}, {25633, 5.7092776}, {25633, 5.7092776}, {25633, 5.7092776}, {25633, 5.7092776}, {50893, 5.995713}, {50893, 5.995713}, {50893, 5.995713}, {50893, 5.995713}, {68471, 5.970008}, {59815, 5.769177}, {21194, 5.6985106}, {21194, 5.6985106}, {21194, 5.6985106}, {21194, 5.6985106}, {21194, 5.6985106}, {68472, 5.970008}, {90148, 5.7181263}]                                                                                                                                                                                                                                                                                                                                                                                              |\n",
            "|53    |[{99733, 6.7036986}, {108228, 7.3670263}, {77562, 6.52981}, {26726, 5.9804277}, {26726, 5.9804277}, {26726, 5.9804277}, {26726, 5.9804277}, {27066, 6.139056}, {27066, 6.139056}, {27066, 6.139056}, {27066, 6.139056}, {68471, 6.1828485}, {26594, 5.977131}, {26594, 5.977131}, {26594, 5.977131}, {26594, 5.977131}, {26594, 5.977131}, {26594, 5.977131}, {26594, 5.977131}, {26594, 5.977131}, {68472, 6.1828485}, {90148, 6.3081083}, {27867, 5.9804277}, {27867, 5.9804277}, {27867, 5.9804277}, {27867, 5.9804277}]                                                                                                                                                                                                                                                                            |\n",
            "|65    |[{99733, 6.4295197}, {108228, 6.959325}, {77562, 6.0608807}, {27066, 5.822963}, {27066, 5.822963}, {27066, 5.822963}, {27066, 5.822963}, {17650, 5.763572}, {17650, 5.763572}, {17650, 5.763572}, {17650, 5.763572}, {17650, 5.763572}, {17650, 5.763572}, {20724, 5.8217926}, {20724, 5.8217926}, {20724, 5.8217926}, {20724, 5.8217926}, {20724, 5.8217926}, {53406, 5.8406525}, {53406, 5.8406525}, {59815, 6.1870713}, {56835, 5.8294363}, {56835, 5.8294363}, {90148, 6.0676203}]                                                                                                                                                                                                                                                                                                                 |\n",
            "|76    |[{99733, 5.4956126}, {108228, 6.2136197}, {21462, 5.4548903}, {21462, 5.4548903}, {21462, 5.4548903}, {21462, 5.4548903}, {21462, 5.4548903}, {19829, 5.564528}, {19829, 5.564528}, {19829, 5.564528}, {19829, 5.564528}, {19829, 5.564528}, {68471, 5.3412266}, {59815, 5.34293}, {48359, 5.3803353}, {48359, 5.3803353}, {68472, 5.3412266}, {22135, 5.378707}, {22135, 5.378707}, {22135, 5.378707}, {22135, 5.378707}, {22135, 5.378707}, {90148, 5.43393}]                                                                                                                                                                                                                                                                                                                                        |\n",
            "|78    |[{99733, 6.435916}, {108228, 7.21666}, {64935, 5.954197}, {53406, 6.0153008}, {53406, 6.0153008}, {42914, 5.9454174}, {42914, 5.9454174}, {68471, 6.039934}, {59815, 6.1088758}, {56835, 5.9343977}, {56835, 5.9343977}, {68472, 6.039934}, {90148, 6.2006817}]                                                                                                                                                                                                                                                                                                                                                                                                                                                                                                                                        |\n",
            "|81    |[{108228, 6.0128803}, {13353, 5.2280684}, {13353, 5.2280684}, {13353, 5.2280684}, {13353, 5.2280684}, {13353, 5.2280684}, {13353, 5.2280684}, {13353, 5.2280684}, {13353, 5.2280684}, {11119, 5.176351}, {11119, 5.176351}, {11119, 5.176351}, {11119, 5.176351}, {11119, 5.176351}, {11119, 5.176351}, {11119, 5.176351}, {11119, 5.176351}, {11119, 5.176351}, {11119, 5.176351}, {10956, 5.176105}, {10956, 5.176105}, {10956, 5.176105}, {10956, 5.176105}, {10956, 5.176105}, {10956, 5.176105}, {10956, 5.176105}, {10956, 5.176105}, {10956, 5.176105}, {10956, 5.176105}, {55295, 5.2947702}, {55295, 5.2947702}, {32416, 5.1952524}, {32416, 5.1952524}, {42914, 5.1973453}, {42914, 5.1973453}, {59815, 5.42495}, {90148, 5.132513}, {25729, 5.143586}, {25729, 5.143586}, {25729, 5.143586}]|\n",
            "|85    |[{99733, 6.683186}, {108228, 6.9425855}, {77562, 6.4760814}, {104735, 7.25551}, {62003, 6.5482397}, {68471, 6.2748327}, {59815, 5.9733734}, {56835, 5.83473}, {56835, 5.83473}, {68472, 6.2748327}, {25659, 6.2505445}, {25659, 6.2505445}, {25659, 6.2505445}, {25659, 6.2505445}]                                                                                                                                                                                                                                                                                                                                                                                                                                                                                                                    |\n",
            "|101   |[{99733, 6.5962152}, {108228, 7.5234137}, {77562, 6.1807714}, {104735, 6.1039844}, {64935, 6.169417}, {53406, 6.2071705}, {53406, 6.2071705}, {42914, 6.095785}, {42914, 6.095785}, {68471, 6.5352793}, {68472, 6.5352793}, {90148, 6.157393}]                                                                                                                                                                                                                                                                                                                                                                                                                                                                                                                                                         |\n",
            "|108   |[{99733, 5.0394506}, {54704, 5.00842}, {54704, 5.00842}, {11267, 5.051754}, {11267, 5.051754}, {11267, 5.051754}, {11267, 5.051754}, {11267, 5.051754}, {11267, 5.051754}, {11267, 5.051754}, {11267, 5.051754}, {11267, 5.051754}, {11267, 5.051754}, {11267, 5.051754}, {11267, 5.051754}, {11267, 5.051754}, {11267, 5.051754}, {11267, 5.051754}, {11267, 5.051754}, {11267, 5.051754}, {11267, 5.051754}, {108228, 5.8533792}, {51273, 5.031588}, {51273, 5.031588}, {20724, 5.1938086}, {20724, 5.1938086}, {20724, 5.1938086}, {20724, 5.1938086}, {20724, 5.1938086}, {54223, 5.0633035}, {54223, 5.0633035}, {59815, 5.128439}, {25124, 5.200189}, {25124, 5.200189}, {25124, 5.200189}, {25124, 5.200189}, {90148, 5.093045}]                                                                |\n",
            "|115   |[{99733, 6.7753963}, {108228, 7.431882}, {77562, 6.706953}, {104735, 7.097199}, {92344, 6.2622995}, {62003, 6.9193583}, {68471, 6.836193}, {56835, 6.0271015}, {56835, 6.0271015}, {68472, 6.836193}, {25659, 6.6060424}, {25659, 6.6060424}, {25659, 6.6060424}, {25659, 6.6060424}]                                                                                                                                                                                                                                                                                                                                                                                                                                                                                                                  |\n",
            "|126   |[{99733, 5.061714}, {108228, 6.0537186}, {36818, 5.025241}, {36818, 5.025241}, {36818, 5.025241}, {35579, 5.182707}, {35579, 5.182707}, {35579, 5.182707}, {24869, 5.030784}, {24869, 5.030784}, {24869, 5.030784}, {24869, 5.030784}, {59815, 5.2086306}, {56835, 5.062877}, {56835, 5.062877}, {44774, 5.1812406}, {44774, 5.1812406}, {21063, 5.0559497}, {21063, 5.0559497}, {21063, 5.0559497}, {21063, 5.0559497}, {21063, 5.0559497}, {90148, 5.2230797}]                                                                                                                                                                                                                                                                                                                                       |\n",
            "|133   |[{99733, 6.276648}, {108228, 6.944271}, {14647, 5.7992625}, {14647, 5.7992625}, {14647, 5.7992625}, {14647, 5.7992625}, {14647, 5.7992625}, {14647, 5.7992625}, {14647, 5.7992625}, {104735, 5.8465347}, {55263, 5.753564}, {55263, 5.753564}, {53149, 5.753564}, {53149, 5.753564}, {53406, 6.0050364}, {53406, 6.0050364}, {59815, 5.7020316}, {112917, 5.725753}, {90148, 5.795034}]                                                                                                                                                                                                                                                                                                                                                                                                                |\n",
            "|137   |[{99733, 5.958614}, {108228, 6.4735036}, {37168, 5.668055}, {37168, 5.668055}, {37168, 5.668055}, {41265, 5.640076}, {41265, 5.640076}, {31751, 5.6759453}, {31751, 5.6759453}, {31751, 5.6759453}, {20724, 6.0630927}, {20724, 6.0630927}, {20724, 6.0630927}, {20724, 6.0630927}, {20724, 6.0630927}, {50893, 5.6598}, {50893, 5.6598}, {50893, 5.6598}, {50893, 5.6598}, {59815, 6.4542537}, {30468, 5.648348}, {30468, 5.648348}, {30468, 5.648348}, {90148, 5.664393}]                                                                                                                                                                                                                                                                                                                            |\n",
            "|148   |[{99733, 5.4213824}, {108228, 6.278292}, {48143, 5.164029}, {48143, 5.164029}, {48143, 5.164029}, {48143, 5.164029}, {35020, 5.2886457}, {35020, 5.2886457}, {35020, 5.2886457}, {20724, 5.1299295}, {20724, 5.1299295}, {20724, 5.1299295}, {20724, 5.1299295}, {20724, 5.1299295}, {53406, 5.225084}, {53406, 5.225084}, {68471, 5.1487446}, {56835, 5.1630635}, {56835, 5.1630635}, {68472, 5.1487446}, {90148, 5.1619916}]                                                                                                                                                                                                                                                                                                                                                                         |\n",
            "|155   |[{99733, 5.5119457}, {108228, 6.3608193}, {14647, 5.349908}, {14647, 5.349908}, {14647, 5.349908}, {14647, 5.349908}, {14647, 5.349908}, {14647, 5.349908}, {14647, 5.349908}, {87112, 5.2517247}, {20724, 5.2644105}, {20724, 5.2644105}, {20724, 5.2644105}, {20724, 5.2644105}, {20724, 5.2644105}, {53406, 5.263035}, {53406, 5.263035}, {59815, 5.333613}, {44774, 5.3216367}, {44774, 5.3216367}, {28223, 5.369305}, {28191, 5.369305}, {28223, 5.369305}, {28191, 5.369305}, {28223, 5.369305}, {28191, 5.369305}, {28223, 5.369305}, {28191, 5.369305}]                                                                                                                                                                                                                                        |\n",
            "|183   |[{108228, 6.2231846}, {80734, 5.8904486}, {33119, 5.7268205}, {33119, 5.7268205}, {33119, 5.7268205}, {87112, 5.614395}, {34232, 5.603907}, {34232, 5.603907}, {34232, 5.603907}, {35579, 5.5504513}, {35579, 5.5504513}, {35579, 5.5504513}, {20724, 5.6445017}, {20724, 5.6445017}, {20724, 5.6445017}, {20724, 5.6445017}, {20724, 5.6445017}, {24869, 5.5586634}, {24869, 5.5586634}, {24869, 5.5586634}, {24869, 5.5586634}, {56835, 5.5541673}, {56835, 5.5541673}, {56691, 5.5603285}, {56691, 5.5603285}]                                                                                                                                                                                                                                                                                      |\n",
            "+------+-------------------------------------------------------------------------------------------------------------------------------------------------------------------------------------------------------------------------------------------------------------------------------------------------------------------------------------------------------------------------------------------------------------------------------------------------------------------------------------------------------------------------------------------------------------------------------------------------------------------------------------------------------------------------------------------------------------------------------------------------------------------------------------------------------+\n",
            "only showing top 20 rows\n",
            "\n"
          ]
        },
        {
          "name": "stderr",
          "output_type": "stream",
          "text": [
            "                                                                                \r"
          ]
        }
      ],
      "source": [
        "user_recommendations = model.recommendForAllUsers(10)\n",
        "exploded_user_recommendations = user_recommendations.withColumn(\n",
        "    \"recommendation\", F.explode(F.col(\"recommendations\"))\n",
        ")\n",
        "exploded_user_recommendations = exploded_user_recommendations.select(\n",
        "    F.col(\"UserId\"),\n",
        "    F.col(\"recommendation.BookId\").alias(\"BookId\"),\n",
        "    F.col(\"recommendation.rating\").alias(\"PredictedRating\"),\n",
        ")\n",
        "\n",
        "book_categories = data.select(F.col(\"BookId\"), F.col(\"categories\")).withColumn(\n",
        "    \"categories_array\", F.split(F.col(\"categories\"), \" \")\n",
        ")\n",
        "\n",
        "recommendations_with_categories = exploded_user_recommendations.join(\n",
        "    book_categories, on=\"BookId\", how=\"inner\"\n",
        ")\n",
        "\n",
        "recommendations_hybrid = recommendations_with_categories.join(\n",
        "    user_top_categories_agg, on=\"UserId\", how=\"inner\"\n",
        ").filter(F.array_intersect(F.col(\"categories_array\"), F.col(\"top_categories\")).isNotNull())\n",
        "\n",
        "# re-group the recommendations\n",
        "recommendations_hybrid = recommendations_hybrid.groupBy(\"UserId\").agg(\n",
        "    F.collect_list(F.struct(\"BookId\", \"PredictedRating\")).alias(\"recommendations\")\n",
        ")\n",
        "\n",
        "recommendations_hybrid.show(truncate=False)"
      ]
    },
    {
      "cell_type": "code",
      "execution_count": 17,
      "metadata": {
        "colab": {
          "base_uri": "https://localhost:8080/"
        },
        "id": "-Y9gb8wbIm7m",
        "outputId": "5aa83129-0b5f-44b7-fdbd-4a8e5e1b8809"
      },
      "outputs": [
        {
          "name": "stderr",
          "output_type": "stream",
          "text": [
            "[Stage 480:====================================================> (97 + 3) / 100]\r"
          ]
        },
        {
          "name": "stdout",
          "output_type": "stream",
          "text": [
            "+------+---------------------------------------------------------------------------------------------------------------------------------------------------------------------------------------------------+\n",
            "|BookId|recommendations                                                                                                                                                                                    |\n",
            "+------+---------------------------------------------------------------------------------------------------------------------------------------------------------------------------------------------------+\n",
            "|28    |[{576, 5.011198}, {4732, 4.909902}, {2306, 4.908149}, {24734, 4.908126}, {24818, 4.9033427}, {25053, 4.9001594}, {23204, 4.8997374}, {21020, 4.899671}, {3813, 4.8979025}, {4803, 4.897622}]       |\n",
            "|31    |[{576, 5.004006}, {4732, 4.916149}, {24734, 4.908223}, {25053, 4.9061503}, {9503, 4.9059367}, {24818, 4.905873}, {23204, 4.9046307}, {4803, 4.903374}, {21020, 4.9030294}, {2306, 4.9014416}]      |\n",
            "|34    |[{7150, 4.880485}, {9337, 4.879975}, {5241, 4.878706}, {9257, 4.8767304}, {5707, 4.8766527}, {8376, 4.876461}, {7950, 4.8758397}, {9508, 4.87513}, {9682, 4.874026}, {9473, 4.873761}]             |\n",
            "|53    |[{4338, 5.39163}, {9562, 5.3733277}, {576, 5.343421}, {9189, 5.3072267}, {5180, 5.298284}, {2846, 5.2799735}, {14133, 5.2784295}, {5072, 5.2614}, {3813, 5.2254815}, {142, 5.215236}]              |\n",
            "|65    |[{19224, 4.9880013}, {23883, 4.948585}, {28253, 4.930239}, {28332, 4.9291286}, {26196, 4.928892}, {25912, 4.9281235}, {12091, 4.923754}, {3747, 4.92063}, {5040, 4.9205704}, {16098, 4.9170227}]   |\n",
            "|76    |[{20435, 4.89595}, {14849, 4.880971}, {25390, 4.873371}, {25734, 4.872964}, {29977, 4.872695}, {29974, 4.872655}, {29821, 4.8725586}, {29947, 4.872428}, {29763, 4.872428}, {29727, 4.8724236}]    |\n",
            "|78    |[{7961, 4.8920727}, {5478, 4.890891}, {4826, 4.8903933}, {6976, 4.890339}, {7079, 4.8900595}, {9270, 4.88994}, {8378, 4.888127}, {8010, 4.8870206}, {6596, 4.8865647}, {10586, 4.8863597}]         |\n",
            "|81    |[{4826, 4.9016094}, {2442, 4.896019}, {9270, 4.895853}, {5478, 4.8955336}, {6976, 4.8944817}, {7079, 4.8927736}, {7961, 4.892095}, {6596, 4.891266}, {4872, 4.891127}, {8078, 4.890203}]           |\n",
            "|85    |[{2442, 4.9153824}, {4826, 4.905749}, {5478, 4.8993564}, {6976, 4.8959346}, {4872, 4.8956523}, {9270, 4.8945694}, {8078, 4.8939238}, {6596, 4.8935204}, {7079, 4.892872}, {4559, 4.891351}]        |\n",
            "|101   |[{13466, 4.8969865}, {2454, 4.895751}, {14174, 4.8932815}, {14169, 4.8915586}, {17046, 4.890611}, {3366, 4.888398}, {13602, 4.888394}, {11754, 4.888326}, {16831, 4.887907}, {6081, 4.887807}]     |\n",
            "|108   |[{2454, 4.8966312}, {14174, 4.8888435}, {13466, 4.885634}, {14169, 4.8838925}, {10062, 4.8836136}, {3366, 4.8823075}, {17046, 4.8822136}, {15418, 4.8821454}, {16831, 4.8817267}, {1605, 4.881516}]|\n",
            "|115   |[{142, 4.985184}, {576, 4.956302}, {1319, 4.951493}, {979, 4.917349}, {13163, 4.9020095}, {3371, 4.901795}, {3857, 4.8998013}, {14684, 4.897871}, {16033, 4.897209}, {16553, 4.8969116}]           |\n",
            "|126   |[{142, 5.002351}, {576, 4.9583797}, {1319, 4.951686}, {979, 4.9215336}, {3857, 4.915412}, {13163, 4.9123464}, {14684, 4.90287}, {16033, 4.900955}, {2798, 4.9005303}, {13868, 4.90024}]            |\n",
            "|133   |[{576, 5.0434003}, {142, 5.014331}, {1206, 4.981588}, {2508, 4.97562}, {4338, 4.9711494}, {1063, 4.966823}, {1319, 4.9651017}, {2846, 4.9640493}, {66, 4.9637227}, {979, 4.9621277}]               |\n",
            "|137   |[{5977, 4.905484}, {4284, 4.9018817}, {9129, 4.8963814}, {9837, 4.8951335}, {7612, 4.893685}, {9190, 4.893085}, {3930, 4.893002}, {9048, 4.8921266}, {11463, 4.8917274}, {8791, 4.891395}]         |\n",
            "|148   |[{5977, 4.894945}, {9190, 4.8920302}, {9837, 4.8914614}, {9129, 4.8911467}, {7612, 4.8896637}, {4284, 4.889619}, {8791, 4.8891435}, {3930, 4.889068}, {9048, 4.8885646}, {11463, 4.887552}]        |\n",
            "|155   |[{576, 5.385528}, {2609, 5.287471}, {3813, 5.2685866}, {2846, 5.2468314}, {3248, 5.228957}, {4338, 5.2283792}, {142, 5.2153506}, {1516, 5.200079}, {6574, 5.19365}, {3981, 5.1876583}]             |\n",
            "|183   |[{576, 5.1081448}, {4338, 5.068919}, {142, 5.0287657}, {3813, 4.9893785}, {875, 4.970079}, {1063, 4.94952}, {3145, 4.9411817}, {24509, 4.9378705}, {979, 4.934892}, {2585, 4.9262385}]             |\n",
            "|193   |[{14058, 4.915258}, {11279, 4.909909}, {7456, 4.9094505}, {11258, 4.9086695}, {14209, 4.906329}, {16688, 4.905561}, {9215, 4.903106}, {17373, 4.9028335}, {15348, 4.902463}, {10263, 4.9024343}]   |\n",
            "|210   |[{576, 5.2805166}, {3813, 5.220486}, {132, 5.186686}, {2846, 5.1786065}, {6574, 5.165429}, {3981, 5.164686}, {1041, 5.151345}, {142, 5.141108}, {1024, 5.135288}, {2609, 5.130639}]                |\n",
            "+------+---------------------------------------------------------------------------------------------------------------------------------------------------------------------------------------------------+\n",
            "only showing top 20 rows\n",
            "\n"
          ]
        },
        {
          "name": "stderr",
          "output_type": "stream",
          "text": [
            "                                                                                \r"
          ]
        }
      ],
      "source": [
        "book_recommendations = model.recommendForAllItems(10)\n",
        "book_recommendations.show(truncate=False)"
      ]
    },
    {
      "cell_type": "markdown",
      "metadata": {},
      "source": [
        "## Convert bookId/UserId to bookTitle/User_id"
      ]
    },
    {
      "cell_type": "code",
      "execution_count": 19,
      "metadata": {},
      "outputs": [],
      "source": [
        "exploded_user_recommendations = recommendations_hybrid.withColumn(\n",
        "    \"recommendation\", F.explode(F.col(\"recommendations\"))\n",
        ")\n",
        "exploded_user_recommendations = exploded_user_recommendations.select(\n",
        "    F.col(\"UserId\"),\n",
        "    F.col(\"recommendation.BookId\").alias(\"BookId\"),\n",
        "    F.col(\"recommendation.PredictedRating\").alias(\"PredictedRating\"),\n",
        ")"
      ]
    },
    {
      "cell_type": "code",
      "execution_count": 20,
      "metadata": {},
      "outputs": [
        {
          "name": "stderr",
          "output_type": "stream",
          "text": [
            "                                                                                \r"
          ]
        },
        {
          "name": "stdout",
          "output_type": "stream",
          "text": [
            "+------+--------------------+\n",
            "|UserId|               Title|\n",
            "+------+--------------------+\n",
            "|    26|Elephant hunting ...|\n",
            "|    26|Penny Plain [Hard...|\n",
            "|    26|Testament: The Bi...|\n",
            "|    26|Thompson Chain-Re...|\n",
            "|    26|Teacup Full of Roses|\n",
            "|    26|Twin Stories: The...|\n",
            "|    26|Sum & Substance: ...|\n",
            "|    26|Mary Had a Little...|\n",
            "|    26|   Hey Diddle Diddle|\n",
            "|    26|The Fourth Networ...|\n",
            "|    26|The Fourth Networ...|\n",
            "|    26|The Fourth Networ...|\n",
            "|    26|The Fourth Networ...|\n",
            "|    27|Elephant hunting ...|\n",
            "|    27|Penny Plain [Hard...|\n",
            "|    27|Thompson Chain-Re...|\n",
            "|    27|Teacup Full of Roses|\n",
            "|    27|The advance of sc...|\n",
            "|    27|The advance of sc...|\n",
            "|    27|Mary Had a Little...|\n",
            "+------+--------------------+\n",
            "only showing top 20 rows\n",
            "\n"
          ]
        }
      ],
      "source": [
        "# map book id to title\n",
        "book_id_to_title = data.select(F.col(\"BookId\"), F.col(\"Title\")).distinct()\n",
        "\n",
        "joined_df = exploded_user_recommendations.join(book_id_to_title, on=\"BookId\", how=\"left\").drop(data[\"UserId\"]).select(\n",
        "    F.col(\"UserId\"),\n",
        "    F.col(\"Title\"),\n",
        ")\n",
        "joined_df.show()"
      ]
    },
    {
      "cell_type": "code",
      "execution_count": 21,
      "metadata": {},
      "outputs": [
        {
          "name": "stderr",
          "output_type": "stream",
          "text": [
            "                                                                                \r"
          ]
        },
        {
          "name": "stdout",
          "output_type": "stream",
          "text": [
            "+--------------+--------------------+\n",
            "|       User_id|               Title|\n",
            "+--------------+--------------------+\n",
            "|A1T17LMQABMBN5|Elephant hunting ...|\n",
            "|A1T17LMQABMBN5|Penny Plain [Hard...|\n",
            "|A1T17LMQABMBN5|Testament: The Bi...|\n",
            "|A1T17LMQABMBN5|Thompson Chain-Re...|\n",
            "|A1T17LMQABMBN5|Teacup Full of Roses|\n",
            "|A1T17LMQABMBN5|Twin Stories: The...|\n",
            "|A1T17LMQABMBN5|Sum & Substance: ...|\n",
            "|A1T17LMQABMBN5|Mary Had a Little...|\n",
            "|A1T17LMQABMBN5|   Hey Diddle Diddle|\n",
            "|A1T17LMQABMBN5|The Fourth Networ...|\n",
            "|A1T17LMQABMBN5|The Fourth Networ...|\n",
            "|A1T17LMQABMBN5|The Fourth Networ...|\n",
            "|A1T17LMQABMBN5|The Fourth Networ...|\n",
            "| AHXAPVSHPJ6OJ|Elephant hunting ...|\n",
            "| AHXAPVSHPJ6OJ|Penny Plain [Hard...|\n",
            "| AHXAPVSHPJ6OJ|Thompson Chain-Re...|\n",
            "| AHXAPVSHPJ6OJ|Teacup Full of Roses|\n",
            "| AHXAPVSHPJ6OJ|The advance of sc...|\n",
            "| AHXAPVSHPJ6OJ|The advance of sc...|\n",
            "| AHXAPVSHPJ6OJ|Mary Had a Little...|\n",
            "+--------------+--------------------+\n",
            "only showing top 20 rows\n",
            "\n"
          ]
        }
      ],
      "source": [
        "# map UserId to User_id\n",
        "userId_to_id = data.select(F.col(\"UserId\"), F.col(\"User_id\")).distinct()\n",
        "\n",
        "joined_df = joined_df.join(userId_to_id, on=\"UserId\", how=\"left\").select(\n",
        "    F.col(\"User_id\"),\n",
        "    F.col(\"Title\"),\n",
        ")\n",
        "\n",
        "joined_df.show()"
      ]
    },
    {
      "cell_type": "code",
      "execution_count": 22,
      "metadata": {},
      "outputs": [
        {
          "name": "stdout",
          "output_type": "stream",
          "text": [
            "------------\n",
            "Final Result:\n",
            "\n"
          ]
        },
        {
          "name": "stderr",
          "output_type": "stream",
          "text": [
            "[Stage 877:>                                                      (0 + 10) / 10]\r"
          ]
        },
        {
          "name": "stdout",
          "output_type": "stream",
          "text": [
            "+--------------------+--------------------+\n",
            "|             User_id|               books|\n",
            "+--------------------+--------------------+\n",
            "|A0469729ADTHXTW0CPIS|[Elephant hunting...|\n",
            "|A0919846H34XADJMF99R|[Elephant hunting...|\n",
            "|      A100NGGXRQF0AQ|[Elephant hunting...|\n",
            "|      A101DG7P9E26PW|[Elephant hunting...|\n",
            "|      A102P9UKBY9P75|[Elephant hunting...|\n",
            "|      A102VPNZTRP1YA|[Elephant hunting...|\n",
            "|      A1042BIXF6ZMAC|[Elephant hunting...|\n",
            "|      A105L4AE1HAC4Y|[Elephant hunting...|\n",
            "|      A1065304SY1HF8|[Elephant hunting...|\n",
            "|      A106RLZK9HQIFS|[Elephant hunting...|\n",
            "+--------------------+--------------------+\n",
            "only showing top 10 rows\n",
            "\n",
            "------------\n",
            "\n"
          ]
        },
        {
          "name": "stderr",
          "output_type": "stream",
          "text": [
            "                                                                                \r"
          ]
        }
      ],
      "source": [
        "result_df = joined_df.groupBy(\"User_id\").agg(F.collect_list(\"Title\").alias(\"books\"))\n",
        "show_dataframe(result_df, prefix=\"Final Result\")"
      ]
    }
  ],
  "metadata": {
    "colab": {
      "provenance": []
    },
    "kernelspec": {
      "display_name": "data",
      "language": "python",
      "name": "python3"
    },
    "language_info": {
      "codemirror_mode": {
        "name": "ipython",
        "version": 3
      },
      "file_extension": ".py",
      "mimetype": "text/x-python",
      "name": "python",
      "nbconvert_exporter": "python",
      "pygments_lexer": "ipython3",
      "version": "3.11.0"
    }
  },
  "nbformat": 4,
  "nbformat_minor": 0
}
